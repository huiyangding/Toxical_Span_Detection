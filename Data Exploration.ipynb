{
 "cells": [
  {
   "cell_type": "code",
   "execution_count": 47,
   "metadata": {},
   "outputs": [],
   "source": [
    "import csv\n",
    "import pandas as pd\n",
    "import random\n",
    "from ast import literal_eval\n",
    "from itertools import chain"
   ]
  },
  {
   "cell_type": "code",
   "execution_count": 2,
   "metadata": {},
   "outputs": [
    {
     "data": {
      "text/html": [
       "<div>\n",
       "<style scoped>\n",
       "    .dataframe tbody tr th:only-of-type {\n",
       "        vertical-align: middle;\n",
       "    }\n",
       "\n",
       "    .dataframe tbody tr th {\n",
       "        vertical-align: top;\n",
       "    }\n",
       "\n",
       "    .dataframe thead th {\n",
       "        text-align: right;\n",
       "    }\n",
       "</style>\n",
       "<table border=\"1\" class=\"dataframe\">\n",
       "  <thead>\n",
       "    <tr style=\"text-align: right;\">\n",
       "      <th></th>\n",
       "      <th>spans</th>\n",
       "      <th>text</th>\n",
       "    </tr>\n",
       "  </thead>\n",
       "  <tbody>\n",
       "    <tr>\n",
       "      <th>0</th>\n",
       "      <td>[15, 16, 17, 18, 19, 27, 28, 29, 30, 31]</td>\n",
       "      <td>Because he's a moron and a bigot. It's not any...</td>\n",
       "    </tr>\n",
       "    <tr>\n",
       "      <th>1</th>\n",
       "      <td>[29, 30, 31, 32, 33, 34]</td>\n",
       "      <td>How about we stop protecting idiots and let na...</td>\n",
       "    </tr>\n",
       "    <tr>\n",
       "      <th>2</th>\n",
       "      <td>[166, 167, 168, 169, 170, 171]</td>\n",
       "      <td>If people  were  smart, they would  Boycott th...</td>\n",
       "    </tr>\n",
       "    <tr>\n",
       "      <th>3</th>\n",
       "      <td>[87, 88, 89, 90, 91, 92]</td>\n",
       "      <td>Trump Claimed that Russia will never invade th...</td>\n",
       "    </tr>\n",
       "    <tr>\n",
       "      <th>4</th>\n",
       "      <td>[]</td>\n",
       "      <td>As long as your willing to pay a lot more for ...</td>\n",
       "    </tr>\n",
       "  </tbody>\n",
       "</table>\n",
       "</div>"
      ],
      "text/plain": [
       "                                      spans  \\\n",
       "0  [15, 16, 17, 18, 19, 27, 28, 29, 30, 31]   \n",
       "1                  [29, 30, 31, 32, 33, 34]   \n",
       "2            [166, 167, 168, 169, 170, 171]   \n",
       "3                  [87, 88, 89, 90, 91, 92]   \n",
       "4                                        []   \n",
       "\n",
       "                                                text  \n",
       "0  Because he's a moron and a bigot. It's not any...  \n",
       "1  How about we stop protecting idiots and let na...  \n",
       "2  If people  were  smart, they would  Boycott th...  \n",
       "3  Trump Claimed that Russia will never invade th...  \n",
       "4  As long as your willing to pay a lot more for ...  "
      ]
     },
     "execution_count": 2,
     "metadata": {},
     "output_type": "execute_result"
    }
   ],
   "source": [
    "Toxical = pd.read_csv(\"tsd_trial.csv\")\n",
    "Toxical.head()"
   ]
  },
  {
   "cell_type": "code",
   "execution_count": 96,
   "metadata": {},
   "outputs": [],
   "source": [
    "def checkToxicalWords (dataFrame):\n",
    "    sampledRow = random.randint(0, len(Toxical) - 1) #Sample a random row\n",
    "#     sampledRow = 678\n",
    "    sampledText = Toxical.iloc[sampledRow][1] #Extract document text from that row\n",
    "    print('The original document sampled for', sampledRow, 'th document is: ')\n",
    "    print(sampledText)\n",
    "\n",
    "    charList = list(sampledText[int(i)] for i in literal_eval(Toxical.iloc[sampledRow][0])) #Extract character from there\n",
    "    print(charList)\n",
    "    toxicalWords = []\n",
    "    if ' ' in charList:\n",
    "        splitList = [i for i,x in enumerate(charList) if x == ' '] #Get the index of \" \" as splitter list\n",
    "        temp = zip(chain([0], splitList), chain(splitList, [None])) #Split the list by \" \"\n",
    "        res = list(''.join(charList[i : j]) for i, j in temp)\n",
    "        if len(res) > 0:\n",
    "            resMod = [res[0]] + [i[1:] for i in res[1:]] #Remove the starting \" \" for the words\n",
    "            print(resMod)\n",
    "    #     print (\"The splitted lists are : \" +  str(resMod)) \n",
    "        toxicalWords = resMod\n",
    "    else:\n",
    "    #     print (\"The splitted lists are : \" +  str(''.join(charList))) \n",
    "        toxicalWords = str(''.join(charList))\n",
    "    return toxicalWords"
   ]
  },
  {
   "cell_type": "code",
   "execution_count": 98,
   "metadata": {},
   "outputs": [
    {
     "name": "stdout",
     "output_type": "stream",
     "text": [
      "The original document sampled for 96 th document is: \n",
      "I love how fellow troglodytes vote in agreement with you despite your falsehoods.   Let me see our middle class taxes were lowered and this also benefits the wealthy (but yes they did rise for those making over $200k - boo hoo).  Our corporate taxes are already in the 10-15% range and have been for a long time.   So where are these tax increased under Wynne or Trudeau, name them???   \n",
      "\n",
      "You believe Trump can get rid of half (just a guess) of federal revenue and it will benefit society?  You think that is how it works?  Do tell.   How does the fact that within the next 20 years we will ALL lose another 10-20% of jobs due to technology?  Tell me how that factors in for you?  What about the fact that globally we are adding about 80 million more people a year but require less labour?  How does that factor in, let me tell you?  Should we always just let the .01% reap the benefits of technology none of them have invented?   Simple minded answers are for the far right among us.\n",
      "['t', 'r', 'o', 'g', 'l', 'o', 'd', 'y', 't', 'e', 's']\n"
     ]
    },
    {
     "data": {
      "text/plain": [
       "'troglodytes'"
      ]
     },
     "execution_count": 98,
     "metadata": {},
     "output_type": "execute_result"
    }
   ],
   "source": [
    "checkToxicalWords (Toxical)"
   ]
  }
 ],
 "metadata": {
  "kernelspec": {
   "display_name": "Python 3",
   "language": "python",
   "name": "python3"
  },
  "language_info": {
   "codemirror_mode": {
    "name": "ipython",
    "version": 3
   },
   "file_extension": ".py",
   "mimetype": "text/x-python",
   "name": "python",
   "nbconvert_exporter": "python",
   "pygments_lexer": "ipython3",
   "version": "3.7.7"
  }
 },
 "nbformat": 4,
 "nbformat_minor": 4
}
